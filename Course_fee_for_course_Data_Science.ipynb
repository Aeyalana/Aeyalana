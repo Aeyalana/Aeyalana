{
  "nbformat": 4,
  "nbformat_minor": 0,
  "metadata": {
    "colab": {
      "provenance": [],
      "authorship_tag": "ABX9TyOGqFMys/q4oNtOHKxNkcrx",
      "include_colab_link": true
    },
    "kernelspec": {
      "name": "python3",
      "display_name": "Python 3"
    },
    "language_info": {
      "name": "python"
    }
  },
  "cells": [
    {
      "cell_type": "markdown",
      "metadata": {
        "id": "view-in-github",
        "colab_type": "text"
      },
      "source": [
        "<a href=\"https://colab.research.google.com/github/Aeyalana/Aeyalana/blob/main/Course_fee_for_course_Data_Science.ipynb\" target=\"_parent\"><img src=\"https://colab.research.google.com/assets/colab-badge.svg\" alt=\"Open In Colab\"/></a>"
      ]
    },
    {
      "cell_type": "code",
      "execution_count": 1,
      "metadata": {
        "colab": {
          "base_uri": "https://localhost:8080/"
        },
        "id": "MMv9N0jO7-YC",
        "outputId": "1ac20feb-f249-4041-b98e-a3669cd7f38f"
      },
      "outputs": [
        {
          "output_type": "stream",
          "name": "stdout",
          "text": [
            "For Data Science course you will pay in total 152 $.\n"
          ]
        }
      ],
      "source": [
        "import math                #importing math for math.ceil() function (rounding up).\n",
        "MonthlyFee = 38            # monthly fee in USD\n",
        "CourseLength = 11          # course length according to Coursera in month\n",
        "MyPace = 3                 # the coefficient which show how much times faster you can pass the course\n",
        "TotalFee = math.ceil(CourseLength/MyPace)*MonthlyFee # counting the fee\n",
        "print('For Data Science course you will pay in total',TotalFee,'$.') # output the values.\n"
      ]
    }
  ]
}