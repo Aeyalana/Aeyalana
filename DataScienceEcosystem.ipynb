{
  "nbformat": 4,
  "nbformat_minor": 0,
  "metadata": {
    "colab": {
      "provenance": [],
      "authorship_tag": "ABX9TyOiTy8VrhIqehbpOabwLF2q",
      "include_colab_link": true
    },
    "kernelspec": {
      "name": "python3",
      "display_name": "Python 3"
    },
    "language_info": {
      "name": "python"
    }
  },
  "cells": [
    {
      "cell_type": "markdown",
      "metadata": {
        "id": "view-in-github",
        "colab_type": "text"
      },
      "source": [
        "<a href=\"https://colab.research.google.com/github/Aeyalana/Aeyalana/blob/main/DataScienceEcosystem.ipynb\" target=\"_parent\"><img src=\"https://colab.research.google.com/assets/colab-badge.svg\" alt=\"Open In Colab\"/></a>"
      ]
    },
    {
      "cell_type": "markdown",
      "source": [
        "# Data Science Tools and Ecosystem"
      ],
      "metadata": {
        "id": "TtmTu1rD5-Fk"
      }
    },
    {
      "cell_type": "markdown",
      "source": [
        "\n",
        "In this notebook, Data Science Tools and Ecosystem are summarized."
      ],
      "metadata": {
        "id": "KZhoU2e7y5Tk"
      }
    },
    {
      "cell_type": "markdown",
      "source": [
        "Some of the popular languages that Data Scientists use are:\n",
        "\n",
        "1.   Python.\n",
        "2.   R.\n",
        "3.   SQL.\n",
        "4.   Java.\n",
        "5.   Julia.\n",
        "6.   Scala.\n",
        "7.   C/C++.\n",
        "8.   JavaScript.\n"
      ],
      "metadata": {
        "id": "roG6_pZMw4Jd"
      }
    },
    {
      "cell_type": "markdown",
      "source": [
        "Some of the commonly used libraries used by Data Scientists include:\n",
        "\n",
        "\n",
        "1.   TensorFlow.\n",
        "2.   NumPy.\n",
        "3.   SciPy.\n",
        "4.   Pandas.\n",
        "5.   Matplotlib.\n",
        "6.   Keras.\n",
        "7.   SciKit-Learn.\n",
        "8.   PyTorch.\n",
        "9.   Scrapy.\n",
        "10.  BeautifulSoup.\n",
        "11.  LightGBM.\n",
        "12.  ELI5.\n",
        "13.  Theano.\n",
        "14.  NuPIC.\n",
        "15.  Ramp.\n",
        "16.  Pipenv.\n",
        "17.  Bob.\n",
        "18.  PyBrain.\n",
        "19.  Caffe2.\n",
        "20.  Chainer.List item\n",
        "\n",
        "\n",
        "\n"
      ],
      "metadata": {
        "id": "gOzSXvB4ylL7"
      }
    },
    {
      "cell_type": "markdown",
      "source": [
        "\n",
        "|Data Science Tools|\n",
        "---\n",
        "\n",
        "SAS. It is one of those data science tools which are specifically designed for statistical operation\n",
        "\n",
        "---\n",
        "\n",
        "Apache Spark\n",
        "\n",
        "---\n",
        "BigML\n",
        "\n",
        "---\n",
        "\n",
        "\n",
        "\n",
        "\n",
        "\n",
        "\n",
        "\n",
        "\n"
      ],
      "metadata": {
        "id": "N-0zTTaF0ZfJ"
      }
    },
    {
      "cell_type": "markdown",
      "source": [
        "### Below are a few examples of evaluating arithmetic expressions in Python\n",
        "\n",
        "\n",
        "```\n",
        "# This a simple arithmetic expression to mutiply then add integers\n",
        "(3*4)+5\n",
        "# Result: 17\n",
        "```\n"
      ],
      "metadata": {
        "id": "lEswSI5_1mFi"
      }
    },
    {
      "cell_type": "markdown",
      "source": [
        "\n",
        "\n",
        "```\n",
        "# This will convert 200 minutes to hours by diving by 60\n",
        "days = 0\n",
        "hours = 0\n",
        "mins = 0\n",
        "\n",
        "time = 200\n",
        "#days = time / 1440\n",
        "leftover_minutes = time % 1440\n",
        "hours = leftover_minutes / 60\n",
        "#mins = time - (days*1440) - (hours*60)\n",
        "print(str(days) + \" days, \" + str(hours) + \" hours, \" + str(mins) +  \" mins. \")\n",
        "\n",
        "# Result: 3.3333333333333335 hours\n",
        "```\n",
        "\n"
      ],
      "metadata": {
        "id": "vnaMWhb926cv"
      }
    },
    {
      "cell_type": "markdown",
      "source": [
        "**objectives**:\n",
        "\n",
        "*   List popular languages that Data Scientists use.\n",
        "*   List commonly used libraries used by Data Scientists.\n",
        "*   Comment on Data Science tools.\n"
      ],
      "metadata": {
        "id": "znJ3vO5J4ETm"
      }
    },
    {
      "cell_type": "markdown",
      "source": [
        "##Author\n",
        "Papada K."
      ],
      "metadata": {
        "id": "YluqngHo4ctm"
      }
    }
  ]
}